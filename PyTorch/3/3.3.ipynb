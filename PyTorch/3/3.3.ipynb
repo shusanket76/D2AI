{
 "cells": [
  {
   "cell_type": "code",
   "execution_count": 1,
   "id": "e379c6e0-cfca-4671-80d4-db4ef5ddc8ef",
   "metadata": {},
   "outputs": [],
   "source": [
    "import torch\n",
    "from d2l import torch as d2l"
   ]
  },
  {
   "cell_type": "code",
   "execution_count": 7,
   "id": "72e605d1-ba7d-4926-bd6e-ea5f517426c4",
   "metadata": {},
   "outputs": [],
   "source": [
    "class LinearRegressionScratch(d2l.Module):  #@save\n",
    "    \"\"\"The linear regression model implemented from scratch.\"\"\"\n",
    "    def __init__(self, num_inputs, lr, sigma=0.01):\n",
    "        super().__init__()\n",
    "        self.save_hyperparameters()\n",
    "        self.w = torch.normal(0, sigma, (num_inputs, 1), requires_grad=True)\n",
    "        self.b = torch.zeros(1, requires_grad=True)\n",
    "@d2l.add_to_class(LinearRegressionScratch)  #@save\n",
    "def forward(self, X):\n",
    "    return torch.matmul(X, self.w) + self.b\n",
    "@d2l.add_to_class(LinearRegressionScratch)  #@save\n",
    "def loss(self, y_hat, y):\n",
    "    l = (y_hat - y) ** 2 / 2\n",
    "    return l.mean()"
   ]
  },
  {
   "cell_type": "code",
   "execution_count": null,
   "id": "7002a113-1ee1-4b3e-92b5-6cc53207ff8f",
   "metadata": {},
   "outputs": [],
   "source": []
  }
 ],
 "metadata": {
  "kernelspec": {
   "display_name": "Python 3 (ipykernel)",
   "language": "python",
   "name": "python3"
  },
  "language_info": {
   "codemirror_mode": {
    "name": "ipython",
    "version": 3
   },
   "file_extension": ".py",
   "mimetype": "text/x-python",
   "name": "python",
   "nbconvert_exporter": "python",
   "pygments_lexer": "ipython3",
   "version": "3.11.9"
  }
 },
 "nbformat": 4,
 "nbformat_minor": 5
}
