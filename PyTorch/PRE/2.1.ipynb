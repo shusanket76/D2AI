{
 "cells": [
  {
   "cell_type": "code",
   "execution_count": 3,
   "id": "517d3a47-e78f-4b9a-a5f6-761a71da5479",
   "metadata": {},
   "outputs": [],
   "source": [
    "import torch"
   ]
  },
  {
   "cell_type": "code",
   "execution_count": 4,
   "id": "73a0dc5e-d99d-4597-a0cb-45460e1588a6",
   "metadata": {},
   "outputs": [],
   "source": [
    "x = torch.arange(12)"
   ]
  },
  {
   "cell_type": "code",
   "execution_count": 5,
   "id": "182dc511-e363-4dce-8b81-83386388c328",
   "metadata": {},
   "outputs": [
    {
     "data": {
      "text/plain": [
       "tensor([ 0,  1,  2,  3,  4,  5,  6,  7,  8,  9, 10, 11])"
      ]
     },
     "execution_count": 5,
     "metadata": {},
     "output_type": "execute_result"
    }
   ],
   "source": [
    "x"
   ]
  },
  {
   "cell_type": "code",
   "execution_count": 14,
   "id": "fa9f0aab-7d9e-4ec6-9101-e9f60d957b05",
   "metadata": {},
   "outputs": [
    {
     "data": {
      "text/plain": [
       "tensor([[ 1.1400,  0.9492, -2.6977,  ...,  1.0845, -1.1726,  1.0701],\n",
       "        [-1.0345, -0.3099,  0.7798,  ..., -0.6042, -0.0533,  0.7324],\n",
       "        [ 1.0844,  0.4863,  1.7612,  ...,  0.6988,  1.7535, -0.3196],\n",
       "        ...,\n",
       "        [ 0.8838,  0.4216,  0.7271,  ..., -0.3402, -1.8263,  0.0061],\n",
       "        [-1.0117,  0.4469, -0.0202,  ..., -0.1150, -0.6122,  0.7773],\n",
       "        [ 1.3153, -0.5318,  0.4445,  ..., -0.1140, -0.3814,  1.8973]])"
      ]
     },
     "execution_count": 14,
     "metadata": {},
     "output_type": "execute_result"
    }
   ],
   "source": [
    "torch.randn(33, 43)"
   ]
  },
  {
   "cell_type": "code",
   "execution_count": 15,
   "id": "4e3c2d55-5b47-40ac-8e87-de0d87748463",
   "metadata": {},
   "outputs": [],
   "source": [
    "a = [[1,2,3],[4,5,6], [7,8,9]]"
   ]
  },
  {
   "cell_type": "code",
   "execution_count": 17,
   "id": "5ae199fc-0f89-424f-a721-154ede8532f6",
   "metadata": {},
   "outputs": [],
   "source": [
    "b = torch.tensor(a)"
   ]
  },
  {
   "cell_type": "code",
   "execution_count": 22,
   "id": "a60e9378-c442-4171-9705-7cef3eddfc09",
   "metadata": {},
   "outputs": [],
   "source": [
    "b = b.reshape(-1)"
   ]
  },
  {
   "cell_type": "code",
   "execution_count": 25,
   "id": "6f8e31f0-9aac-4420-9c2c-6e127b7a1427",
   "metadata": {},
   "outputs": [],
   "source": [
    "b=b.reshape(3,-1)"
   ]
  },
  {
   "cell_type": "code",
   "execution_count": 36,
   "id": "b7c16e39-b3fe-455b-b35c-f85ea62940a7",
   "metadata": {},
   "outputs": [
    {
     "data": {
      "text/plain": [
       "tensor([7, 8, 9])"
      ]
     },
     "execution_count": 36,
     "metadata": {},
     "output_type": "execute_result"
    }
   ],
   "source": [
    "b[2]"
   ]
  },
  {
   "cell_type": "code",
   "execution_count": 38,
   "id": "333b780e-4c78-4eb5-86db-a7ea7291eb94",
   "metadata": {},
   "outputs": [
    {
     "data": {
      "text/plain": [
       "(tensor([[ 0.,  1.,  2.,  3.],\n",
       "         [ 4.,  5.,  6.,  7.],\n",
       "         [ 8.,  9., 10., 11.],\n",
       "         [ 2.,  1.,  4.,  3.],\n",
       "         [ 1.,  2.,  3.,  4.],\n",
       "         [ 4.,  3.,  2.,  1.]]),\n",
       " tensor([[ 0.,  1.,  2.,  3.,  2.,  1.,  4.,  3.],\n",
       "         [ 4.,  5.,  6.,  7.,  1.,  2.,  3.,  4.],\n",
       "         [ 8.,  9., 10., 11.,  4.,  3.,  2.,  1.]]))"
      ]
     },
     "execution_count": 38,
     "metadata": {},
     "output_type": "execute_result"
    }
   ],
   "source": [
    "X = torch.arange(12, dtype=torch.float32).reshape((3,4))\n",
    "Y = torch.tensor([[2.0, 1, 4, 3], [1, 2, 3, 4], [4, 3, 2, 1]])\n",
    "torch.cat((X, Y), dim=0), torch.cat((X, Y), dim=1)"
   ]
  },
  {
   "cell_type": "code",
   "execution_count": 40,
   "id": "8e98d7c3-c29a-45f2-bcfe-3ea98064103b",
   "metadata": {},
   "outputs": [
    {
     "data": {
      "text/plain": [
       "tensor([[ 0.,  1.,  2.,  3.],\n",
       "        [ 4.,  5.,  6.,  7.],\n",
       "        [ 8.,  9., 10., 11.]])"
      ]
     },
     "execution_count": 40,
     "metadata": {},
     "output_type": "execute_result"
    }
   ],
   "source": [
    "X"
   ]
  },
  {
   "cell_type": "code",
   "execution_count": 41,
   "id": "ae59d3e1-1e96-4783-bbb6-6e52306d4c83",
   "metadata": {},
   "outputs": [
    {
     "data": {
      "text/plain": [
       "tensor([[2., 1., 4., 3.],\n",
       "        [1., 2., 3., 4.],\n",
       "        [4., 3., 2., 1.]])"
      ]
     },
     "execution_count": 41,
     "metadata": {},
     "output_type": "execute_result"
    }
   ],
   "source": [
    "Y"
   ]
  },
  {
   "cell_type": "code",
   "execution_count": 66,
   "id": "bffc4476-ce15-40c5-9392-c06184dc0574",
   "metadata": {},
   "outputs": [
    {
     "data": {
      "text/plain": [
       "(tensor([[ 0,  1,  2,  3,  4,  5,  6,  7,  8,  9, 10, 11, 12, 13, 14, 15, 16, 17,\n",
       "          18, 19, 20, 21, 22, 23]]),\n",
       " tensor([[ 0],\n",
       "         [ 1],\n",
       "         [ 2],\n",
       "         [ 3],\n",
       "         [ 4],\n",
       "         [ 5],\n",
       "         [ 6],\n",
       "         [ 7],\n",
       "         [ 8],\n",
       "         [ 9],\n",
       "         [10],\n",
       "         [11],\n",
       "         [12],\n",
       "         [13],\n",
       "         [14],\n",
       "         [15],\n",
       "         [16],\n",
       "         [17],\n",
       "         [18],\n",
       "         [19],\n",
       "         [20],\n",
       "         [21],\n",
       "         [22],\n",
       "         [23],\n",
       "         [24],\n",
       "         [25],\n",
       "         [26],\n",
       "         [27],\n",
       "         [28],\n",
       "         [29],\n",
       "         [30],\n",
       "         [31],\n",
       "         [32],\n",
       "         [33],\n",
       "         [34],\n",
       "         [35],\n",
       "         [36],\n",
       "         [37],\n",
       "         [38],\n",
       "         [39],\n",
       "         [40],\n",
       "         [41],\n",
       "         [42],\n",
       "         [43],\n",
       "         [44],\n",
       "         [45],\n",
       "         [46],\n",
       "         [47]]))"
      ]
     },
     "execution_count": 66,
     "metadata": {},
     "output_type": "execute_result"
    }
   ],
   "source": [
    "a = torch.arange(24).reshape((1,-1))\n",
    "b = torch.arange(48).reshape((-1, 1))\n",
    "a, b"
   ]
  },
  {
   "cell_type": "code",
   "execution_count": 67,
   "id": "644a3623-0996-40a1-9240-05bd14ffe457",
   "metadata": {},
   "outputs": [
    {
     "data": {
      "text/plain": [
       "tensor([[ 0,  1,  2,  ..., 21, 22, 23],\n",
       "        [ 1,  2,  3,  ..., 22, 23, 24],\n",
       "        [ 2,  3,  4,  ..., 23, 24, 25],\n",
       "        ...,\n",
       "        [45, 46, 47,  ..., 66, 67, 68],\n",
       "        [46, 47, 48,  ..., 67, 68, 69],\n",
       "        [47, 48, 49,  ..., 68, 69, 70]])"
      ]
     },
     "execution_count": 67,
     "metadata": {},
     "output_type": "execute_result"
    }
   ],
   "source": [
    "a+b"
   ]
  },
  {
   "cell_type": "code",
   "execution_count": 63,
   "id": "0b41a546-a254-4865-aed8-8ebdf7a62f95",
   "metadata": {},
   "outputs": [
    {
     "data": {
      "text/plain": [
       "torch.Size([1, 24])"
      ]
     },
     "execution_count": 63,
     "metadata": {},
     "output_type": "execute_result"
    }
   ],
   "source": [
    "a.shape"
   ]
  },
  {
   "cell_type": "code",
   "execution_count": 64,
   "id": "3b5c782c-b27f-4b20-a880-082e5e681e21",
   "metadata": {},
   "outputs": [
    {
     "data": {
      "text/plain": [
       "torch.Size([1, 48])"
      ]
     },
     "execution_count": 64,
     "metadata": {},
     "output_type": "execute_result"
    }
   ],
   "source": [
    "b.shape"
   ]
  },
  {
   "cell_type": "code",
   "execution_count": 77,
   "id": "fc7cdcd8-9252-4c6f-a836-88bc3ead994e",
   "metadata": {},
   "outputs": [
    {
     "data": {
      "text/plain": [
       "(tensor([[ 0,  1,  2,  3,  4,  5],\n",
       "         [ 6,  7,  8,  9, 10, 11]]),\n",
       " tensor([[ 0,  1],\n",
       "         [ 2,  3],\n",
       "         [ 4,  5],\n",
       "         [ 6,  7],\n",
       "         [ 8,  9],\n",
       "         [10, 11],\n",
       "         [12, 13],\n",
       "         [14, 15],\n",
       "         [16, 17],\n",
       "         [18, 19],\n",
       "         [20, 21],\n",
       "         [22, 23]]))"
      ]
     },
     "execution_count": 77,
     "metadata": {},
     "output_type": "execute_result"
    }
   ],
   "source": [
    "a = torch.arange(12).reshape((2, -1))\n",
    "b = torch.arange(24).reshape((-1, 2))\n",
    "a, b"
   ]
  },
  {
   "cell_type": "code",
   "execution_count": 80,
   "id": "b234ad56-4fe7-480d-b8da-29fd94f472cd",
   "metadata": {},
   "outputs": [
    {
     "data": {
      "text/plain": [
       "torch.Size([2, 6])"
      ]
     },
     "execution_count": 80,
     "metadata": {},
     "output_type": "execute_result"
    }
   ],
   "source": [
    "a.shape"
   ]
  },
  {
   "cell_type": "code",
   "execution_count": 81,
   "id": "7feed6b4-9ddf-4cdd-ae8f-5f445d760b09",
   "metadata": {},
   "outputs": [
    {
     "data": {
      "text/plain": [
       "torch.Size([12, 2])"
      ]
     },
     "execution_count": 81,
     "metadata": {},
     "output_type": "execute_result"
    }
   ],
   "source": [
    "b.shape"
   ]
  },
  {
   "cell_type": "markdown",
   "id": "2bd5a979-6e91-4df0-ac84-05330f678ebd",
   "metadata": {},
   "source": [
    "### "
   ]
  }
 ],
 "metadata": {
  "kernelspec": {
   "display_name": "Python 3 (ipykernel)",
   "language": "python",
   "name": "python3"
  },
  "language_info": {
   "codemirror_mode": {
    "name": "ipython",
    "version": 3
   },
   "file_extension": ".py",
   "mimetype": "text/x-python",
   "name": "python",
   "nbconvert_exporter": "python",
   "pygments_lexer": "ipython3",
   "version": "3.11.9"
  }
 },
 "nbformat": 4,
 "nbformat_minor": 5
}
